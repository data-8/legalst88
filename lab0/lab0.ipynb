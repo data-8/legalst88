{
 "cells": [
  {
   "cell_type": "markdown",
   "metadata": {},
   "source": [
    "# Lab 0: Fatal Police Shootings\n",
    "In this lab, we'll be examining a dataset with information about deaths by police shootings. We'll use this dataset to practice manipulating tables and extracting values with Python. Be sure to read the comments in each cell to understand what the code is doing. You can run the cells by pressing Shift+Enter"
   ]
  },
  {
   "cell_type": "code",
   "execution_count": null,
   "metadata": {},
   "outputs": [],
   "source": [
    "#Run this cell to load all the libraries you'll need. Make sure to run this cell before you do anything else.\n",
    "import numpy as np\n",
    "from datascience import *\n",
    "\n",
    "import matplotlib\n",
    "matplotlib.use('Agg')\n",
    "%matplotlib inline\n",
    "import matplotlib.pyplot as plt\n",
    "plt.style.use('fivethirtyeight')"
   ]
  },
  {
   "cell_type": "code",
   "execution_count": null,
   "metadata": {
    "collapsed": true
   },
   "outputs": [],
   "source": [
    "#This cell loads the data into a table you can display and manipulate with Python.\n",
    "shootings = Table.read_table(\"fatal-police-shootings-data.csv\")"
   ]
  },
  {
   "cell_type": "code",
   "execution_count": null,
   "metadata": {},
   "outputs": [],
   "source": [
    "#Run this cell to see the table.\n",
    "shootings"
   ]
  },
  {
   "cell_type": "markdown",
   "metadata": {},
   "source": [
    "## Part 1: Renaming Columns\n",
    "\n",
    "You can use the relabel function to change the names of columns in your table! The function takes two arguments: the first is the name of the column to be relabeled, and the second is the name you want to change it to. The first cell in this section renames the column \"flee\" to \"fleeing.\""
   ]
  },
  {
   "cell_type": "code",
   "execution_count": null,
   "metadata": {},
   "outputs": [],
   "source": [
    "shootings = shootings.relabel(\"flee\", \"fleeing\")"
   ]
  },
  {
   "cell_type": "code",
   "execution_count": null,
   "metadata": {},
   "outputs": [],
   "source": [
    "#run this cell to see the relabeled table\n",
    "shootings"
   ]
  },
  {
   "cell_type": "markdown",
   "metadata": {},
   "source": [
    "Now try relabeling the column \"body_camera\" to \"body_cam\"! Use the cell below"
   ]
  },
  {
   "cell_type": "code",
   "execution_count": null,
   "metadata": {
    "collapsed": true
   },
   "outputs": [],
   "source": [
    "#use this cell to relabel \"body_camera\" column.\n"
   ]
  },
  {
   "cell_type": "code",
   "execution_count": null,
   "metadata": {},
   "outputs": [],
   "source": [
    "#run this cell to see the relabeled table. make sure that it has been relabeled correctly.\n",
    "shootings"
   ]
  },
  {
   "cell_type": "markdown",
   "metadata": {},
   "source": [
    "## Part 2: Grouping and Making Bar Charts\n",
    "\n",
    "The group function takes a column from your table and creates a new table with each value that appears in the column and the number of times that value appears. The group function has one required argument: the name of the column you want to group by. \n",
    "\n",
    "The barh function can be used to make bar charts from categorical data in a table. It takes two arguments: the name of the column with the categories, and the name of the column with the counts."
   ]
  },
  {
   "cell_type": "code",
   "execution_count": null,
   "metadata": {},
   "outputs": [],
   "source": [
    "#this makes a new table called race_counts that groups the \"race\" column from the shootings table.\n",
    "race_counts = shootings.group(\"race\")"
   ]
  },
  {
   "cell_type": "code",
   "execution_count": null,
   "metadata": {},
   "outputs": [],
   "source": [
    "#Run this cell to see the shootings table grouped by race.\n",
    "race_counts"
   ]
  },
  {
   "cell_type": "code",
   "execution_count": null,
   "metadata": {},
   "outputs": [],
   "source": [
    "#this uses the barh function to make a bar chart. run this cell to see the bar chart.\n",
    "race_counts.barh(\"race\", \"count\")"
   ]
  },
  {
   "cell_type": "markdown",
   "metadata": {},
   "source": [
    "Now try to make a bar chart for the column manner_of_death! "
   ]
  },
  {
   "cell_type": "code",
   "execution_count": null,
   "metadata": {},
   "outputs": [],
   "source": [
    "#create a table grouping by manner of death.\n",
    "manner_of_death_counts = #fill this in"
   ]
  },
  {
   "cell_type": "code",
   "execution_count": null,
   "metadata": {},
   "outputs": [],
   "source": [
    "#run this cell to see the table you've created. make sure that it's the table you want\n",
    "#(one column with categories, one column with counts).\n",
    "manner_of_death_counts"
   ]
  },
  {
   "cell_type": "code",
   "execution_count": null,
   "metadata": {
    "collapsed": true
   },
   "outputs": [],
   "source": [
    "#use this cell to create a bar chart!"
   ]
  },
  {
   "cell_type": "code",
   "execution_count": null,
   "metadata": {
    "collapsed": true
   },
   "outputs": [],
   "source": []
  }
 ],
 "metadata": {
  "kernelspec": {
   "display_name": "Python 3",
   "language": "python",
   "name": "python3"
  },
  "language_info": {
   "codemirror_mode": {
    "name": "ipython",
    "version": 3
   },
   "file_extension": ".py",
   "mimetype": "text/x-python",
   "name": "python",
   "nbconvert_exporter": "python",
   "pygments_lexer": "ipython3",
   "version": "3.6.3"
  }
 },
 "nbformat": 4,
 "nbformat_minor": 2
}
